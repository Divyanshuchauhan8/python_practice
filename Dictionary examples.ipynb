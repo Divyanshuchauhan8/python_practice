{
 "cells": [
  {
   "cell_type": "code",
   "execution_count": null,
   "metadata": {},
   "outputs": [],
   "source": []
  },
  {
   "cell_type": "code",
   "execution_count": null,
   "metadata": {},
   "outputs": [],
   "source": []
  },
  {
   "cell_type": "code",
   "execution_count": 1,
   "metadata": {},
   "outputs": [
    {
     "name": "stdout",
     "output_type": "stream",
     "text": [
      "{'apple': 'green', 'banana': 'yellow', 'cherry': 'red'}\n"
     ]
    }
   ],
   "source": [
    "thisdict ={\n",
    "  \"apple\": \"green\",\n",
    "  \"banana\": \"yellow\",\n",
    "  \"cherry\": \"red\"\n",
    "}\n",
    "print(thisdict)  #Simple Dictionary 1"
   ]
  },
  {
   "cell_type": "code",
   "execution_count": 3,
   "metadata": {},
   "outputs": [
    {
     "name": "stdout",
     "output_type": "stream",
     "text": [
      "{'name': 'John', 1: [2, 4, 3]}\n"
     ]
    }
   ],
   "source": [
    "# Dictionary With List 2\n",
    "my_dict1 = {'name': 'John', 1: [2, 4, 3]}\n",
    "print(my_dict1)"
   ]
  },
  {
   "cell_type": "code",
   "execution_count": 4,
   "metadata": {},
   "outputs": [
    {
     "name": "stdout",
     "output_type": "stream",
     "text": [
      "{'name': 'Divyanshu', 'address': 'Gajraula ,Uttar Pradesh', 'phone': '9414975667'}\n"
     ]
    }
   ],
   "source": [
    "rsme={'name':'Divyanshu',\n",
    "      'address':'Gajraula ,Uttar Pradesh',\n",
    "      'phone':'9414975667',\n",
    "     }\n",
    "print(rsme)"
   ]
  },
  {
   "cell_type": "code",
   "execution_count": 7,
   "metadata": {},
   "outputs": [
    {
     "name": "stdout",
     "output_type": "stream",
     "text": [
      "['gaming', 'listen music', 'exploring Web']\n"
     ]
    }
   ],
   "source": [
    "hobbie=['gaming','listen music','exploring Web']\n",
    "print(hobbie)"
   ]
  },
  {
   "cell_type": "code",
   "execution_count": 12,
   "metadata": {},
   "outputs": [
    {
     "name": "stdout",
     "output_type": "stream",
     "text": [
      "{'school': 'Carmel Public sr. sec. school', 'subject': ['english', 'math', 'hindi', 'science', 'computer'], 'Grade': '8.0 cgpa'}\n"
     ]
    }
   ],
   "source": [
    "high_school={\n",
    "    'school': 'Carmel Public sr. sec. school',\n",
    "    'subject' :['english','math','hindi','science','computer'],\n",
    "    'Grade' : '8.0 cgpa',\n",
    "}\n",
    "print(high_school)"
   ]
  },
  {
   "cell_type": "code",
   "execution_count": 13,
   "metadata": {},
   "outputs": [
    {
     "name": "stdout",
     "output_type": "stream",
     "text": [
      "{'school': 'Sarang public sr. sec school', 'percentage': '61 %'}\n"
     ]
    }
   ],
   "source": [
    "inter_school = {\n",
    "    'school' : 'Sarang public sr. sec school',  'percentage' : '61 %',\n",
    "}\n",
    "print(inter_school)"
   ]
  },
  {
   "cell_type": "code",
   "execution_count": 14,
   "metadata": {},
   "outputs": [],
   "source": [
    "rsme['hobbie']= hobbie"
   ]
  },
  {
   "cell_type": "code",
   "execution_count": 15,
   "metadata": {},
   "outputs": [],
   "source": [
    "rsme['high_school'] = high_school"
   ]
  },
  {
   "cell_type": "code",
   "execution_count": 16,
   "metadata": {},
   "outputs": [],
   "source": [
    "rsme['inter_school'] =inter_school"
   ]
  },
  {
   "cell_type": "code",
   "execution_count": 17,
   "metadata": {},
   "outputs": [
    {
     "name": "stdout",
     "output_type": "stream",
     "text": [
      "{'address': 'Gajraula ,Uttar Pradesh',\n",
      " 'high_school': {'Grade': '8.0 cgpa',\n",
      "                 'school': 'Carmel Public sr. sec. school',\n",
      "                 'subject': ['english',\n",
      "                             'math',\n",
      "                             'hindi',\n",
      "                             'science',\n",
      "                             'computer']},\n",
      " 'hobbie': ['gaming', 'listen music', 'exploring Web'],\n",
      " 'inter_school': {'percentage': '61 %',\n",
      "                  'school': 'Sarang public sr. sec school'},\n",
      " 'name': 'Divyanshu',\n",
      " 'phone': '9414975667'}\n"
     ]
    }
   ],
   "source": [
    "from pprint import pprint\n",
    "pprint(rsme)"
   ]
  },
  {
   "cell_type": "code",
   "execution_count": 21,
   "metadata": {},
   "outputs": [
    {
     "name": "stdout",
     "output_type": "stream",
     "text": [
      "{'name': 'Divyanshu', 'address': 'Gajraula ,Uttar Pradesh', 'phone': '9414975667', 'hobbie': ['gaming', 'listen music', 'exploring Web'], 'high_school': {'school': 'Carmel Public sr. sec. school', 'subject': ['english', 'math', 'hindi', 'science', 'computer'], 'Grade': '8.0 cgpa'}, 'inter_school': {'school': 'Sarang public sr. sec school', 'percentage': '61 %'}, 'skills': ['web designing & developing', 'bootstrap', 'Basic Php']}\n"
     ]
    }
   ],
   "source": [
    "skills=['web designing & developing','bootstrap','Basic Php']\n",
    "rsme['skills']= skills\n",
    "print(rsme)"
   ]
  },
  {
   "cell_type": "code",
   "execution_count": 2,
   "metadata": {},
   "outputs": [
    {
     "name": "stdout",
     "output_type": "stream",
     "text": [
      "{'batsman': 'Ms Dhoni', 'Bowler': 'harbhajan', 'all_rounder': 'yuvraj singh'}\n"
     ]
    }
   ],
   "source": [
    "cricket ={\n",
    "      'batsman' : 'Ms Dhoni',\n",
    "      'Bowler' : 'harbhajan',\n",
    "      'all_rounder' : 'yuvraj singh'\n",
    "}\n",
    "print(cricket)\n"
   ]
  },
  {
   "cell_type": "code",
   "execution_count": 1,
   "metadata": {},
   "outputs": [
    {
     "name": "stdout",
     "output_type": "stream",
     "text": [
      "{1: 1, 2: 4, 3: 9, 4: 16, 5: 25}\n"
     ]
    }
   ],
   "source": [
    "squares = {1:1, 2:4, 3:9, 4:16, 5:25} \n",
    "print(squares)"
   ]
  },
  {
   "cell_type": "code",
   "execution_count": 2,
   "metadata": {},
   "outputs": [
    {
     "name": "stdout",
     "output_type": "stream",
     "text": [
      "5\n"
     ]
    }
   ],
   "source": [
    "print(len(squares))\n"
   ]
  },
  {
   "cell_type": "code",
   "execution_count": null,
   "metadata": {},
   "outputs": [],
   "source": []
  }
 ],
 "metadata": {
  "kernelspec": {
   "display_name": "Python 3",
   "language": "python",
   "name": "python3"
  },
  "language_info": {
   "codemirror_mode": {
    "name": "ipython",
    "version": 3
   },
   "file_extension": ".py",
   "mimetype": "text/x-python",
   "name": "python",
   "nbconvert_exporter": "python",
   "pygments_lexer": "ipython3",
   "version": "3.6.5"
  }
 },
 "nbformat": 4,
 "nbformat_minor": 2
}
