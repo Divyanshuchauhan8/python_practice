{
 "cells": [
  {
   "cell_type": "code",
   "execution_count": 11,
   "metadata": {},
   "outputs": [],
   "source": [
    "data={'username':[],\n",
    "'account':[],\n",
    "'balance':[],\n",
    "'password':[],\n",
    "     }\n",
    "\n",
    "acc=1001\n"
   ]
  },
  {
   "cell_type": "code",
   "execution_count": 12,
   "metadata": {},
   "outputs": [
    {
     "name": "stdout",
     "output_type": "stream",
     "text": [
      "enter the username divyanshu chauhan\n",
      "enter the amount 80000\n",
      "enter the password ········\n",
      "enter the username praval\n",
      "enter the amount 90000\n",
      "enter the password ········\n"
     ]
    }
   ],
   "source": [
    "from getpass import getpass\n",
    "\n",
    "for var in range(2):\n",
    "    acc_no = acc\n",
    "    acc = acc + 1\n",
    "    data['username'].append(input(\"enter the username \"))\n",
    "    data['account'].append(acc_no)\n",
    "    data['balance'].append(int(input(\"enter the amount \")))\n",
    "    data['password'].append(getpass(\"enter the password \"))"
   ]
  },
  {
   "cell_type": "code",
   "execution_count": 13,
   "metadata": {},
   "outputs": [
    {
     "name": "stdout",
     "output_type": "stream",
     "text": [
      "{'account': [1001, 1002],\n",
      " 'balance': [80000, 90000],\n",
      " 'password': ['890', '89900'],\n",
      " 'username': ['divyanshu chauhan', 'praval']}\n"
     ]
    }
   ],
   "source": [
    "from pprint import pprint\n",
    "pprint(data)"
   ]
  },
  {
   "cell_type": "code",
   "execution_count": 19,
   "metadata": {},
   "outputs": [
    {
     "name": "stdout",
     "output_type": "stream",
     "text": [
      "Enter your account number : 1002\n",
      "Name =  praval\n",
      "Balance =  90000\n",
      "Password =  89900\n"
     ]
    }
   ],
   "source": [
    "acc_no = int(input(\"Enter your account number : \"))\n",
    "index = data['account'].index(acc_no)\n",
    "print(\"Name = \",data['username'][index])\n",
    "print(\"Balance = \",data['balance'][index])\n",
    "print(\"Password = \",data['password'][index])"
   ]
  },
  {
   "cell_type": "code",
   "execution_count": null,
   "metadata": {},
   "outputs": [],
   "source": []
  },
  {
   "cell_type": "code",
   "execution_count": null,
   "metadata": {},
   "outputs": [],
   "source": []
  }
 ],
 "metadata": {
  "kernelspec": {
   "display_name": "Python 3",
   "language": "python",
   "name": "python3"
  },
  "language_info": {
   "codemirror_mode": {
    "name": "ipython",
    "version": 3
   },
   "file_extension": ".py",
   "mimetype": "text/x-python",
   "name": "python",
   "nbconvert_exporter": "python",
   "pygments_lexer": "ipython3",
   "version": "3.6.5"
  }
 },
 "nbformat": 4,
 "nbformat_minor": 2
}
