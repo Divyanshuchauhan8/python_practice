{
 "cells": [
  {
   "cell_type": "code",
   "execution_count": 18,
   "metadata": {},
   "outputs": [
    {
     "name": "stdout",
     "output_type": "stream",
     "text": [
      "enter the number4\n",
      "enter the number2\n"
     ]
    }
   ],
   "source": [
    "#to find quotient and remainder\n",
    "x= int(input(\"enter the number\"))\n",
    "y= int(input(\"enter the number\"))\n",
    "q= x/y\n",
    "r= x%y\n",
    "while q == 0:\n",
    "    print(\"quotient is \",q)\n",
    "else :\n",
    "    print(\"reminder is \",r)"
   ]
  },
  {
   "cell_type": "code",
   "execution_count": 19,
   "metadata": {},
   "outputs": [
    {
     "name": "stdout",
     "output_type": "stream",
     "text": [
      "3\n"
     ]
    }
   ],
   "source": [
    "x=7//2\n",
    "print(x)"
   ]
  },
  {
   "cell_type": "code",
   "execution_count": 5,
   "metadata": {},
   "outputs": [
    {
     "name": "stdout",
     "output_type": "stream",
     "text": [
      "h\te\tl\tl\to\t \tw\to\tr\tl\td\t"
     ]
    }
   ],
   "source": [
    "s = \"hello world\"''\n",
    "for x in s:\n",
    "    print(x,end=\"\\t\")"
   ]
  },
  {
   "cell_type": "code",
   "execution_count": 13,
   "metadata": {},
   "outputs": [
    {
     "name": "stdout",
     "output_type": "stream",
     "text": [
      "hello\n",
      "1\n",
      "2\n",
      "3\n",
      "python\n"
     ]
    }
   ],
   "source": [
    "l= ['hello',1,2,3,'python']\n",
    "for item in l:\n",
    "    print(item)"
   ]
  },
  {
   "cell_type": "code",
   "execution_count": 18,
   "metadata": {},
   "outputs": [
    {
     "name": "stdout",
     "output_type": "stream",
     "text": [
      "name\n",
      "age\n",
      "country\n"
     ]
    }
   ],
   "source": [
    "d = {'name':'divyanshu','age':'18','country':'India'}\n",
    "for s in d:\n",
    "    print(s)"
   ]
  },
  {
   "cell_type": "code",
   "execution_count": 19,
   "metadata": {},
   "outputs": [
    {
     "name": "stdout",
     "output_type": "stream",
     "text": [
      "(3, 4)\n"
     ]
    }
   ],
   "source": [
    "x=3,4\n",
    "print(x)"
   ]
  },
  {
   "cell_type": "code",
   "execution_count": 24,
   "metadata": {},
   "outputs": [
    {
     "name": "stdout",
     "output_type": "stream",
     "text": [
      "v1=a and  v2=b\n",
      "v1=c and  v2=d\n",
      "v1=e and  v2=f\n"
     ]
    }
   ],
   "source": [
    "dd= ['ab','cd','ef']\n",
    "for v1,v2 in dd:\n",
    "    print(\"v1={} and  v2={}\".format(v1,v2))"
   ]
  },
  {
   "cell_type": "markdown",
   "metadata": {},
   "source": [
    "# for dict"
   ]
  },
  {
   "cell_type": "code",
   "execution_count": 31,
   "metadata": {},
   "outputs": [
    {
     "name": "stdout",
     "output_type": "stream",
     "text": [
      "enter the namedivyanshu\n",
      "['divyanshu']\n",
      "enter the named\n",
      "['divyanshu', 'd']\n",
      "enter the named\n",
      "['divyanshu', 'd', 'd']\n",
      "enter the named\n",
      "['divyanshu', 'd', 'd', 'd']\n",
      "enter the named\n",
      "['divyanshu', 'd', 'd', 'd', 'd']\n"
     ]
    }
   ],
   "source": [
    "l=[]\n",
    "for x in 'aaaaa':\n",
    "    n = input(\"enter the name\")\n",
    "    l.append(n)\n",
    "    print(l)"
   ]
  },
  {
   "cell_type": "code",
   "execution_count": 34,
   "metadata": {},
   "outputs": [
    {
     "name": "stdout",
     "output_type": "stream",
     "text": [
      "enter the name = 1x\n",
      "enter the name = 2d\n",
      "enter the name = 3d\n",
      "enter the name = 4\n",
      "enter the name = 5d\n",
      "['x', 'd', 'd', '', 'd']\n"
     ]
    }
   ],
   "source": [
    "names=[input(\"enter the name = {}\".format(x )) for x in '12345']\n",
    "print(names)"
   ]
  },
  {
   "cell_type": "code",
   "execution_count": 39,
   "metadata": {},
   "outputs": [
    {
     "name": "stdout",
     "output_type": "stream",
     "text": [
      "12\n",
      "12\n",
      "12\n",
      "\\12\n",
      "2\n",
      "3\n",
      "64\n",
      "\n",
      "75\n",
      "22\n",
      "5\n",
      "5\n",
      "5\n"
     ]
    }
   ],
   "source": [
    "ll= []\n",
    "for var in range(int(input())):\n",
    "    data = input().split\n",
    "                 "
   ]
  },
  {
   "cell_type": "code",
   "execution_count": null,
   "metadata": {},
   "outputs": [],
   "source": []
  }
 ],
 "metadata": {
  "kernelspec": {
   "display_name": "Python 3",
   "language": "python",
   "name": "python3"
  },
  "language_info": {
   "codemirror_mode": {
    "name": "ipython",
    "version": 3
   },
   "file_extension": ".py",
   "mimetype": "text/x-python",
   "name": "python",
   "nbconvert_exporter": "python",
   "pygments_lexer": "ipython3",
   "version": "3.6.5"
  }
 },
 "nbformat": 4,
 "nbformat_minor": 2
}
